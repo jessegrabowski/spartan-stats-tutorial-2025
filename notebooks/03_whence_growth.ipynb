{
 "cells": [
  {
   "cell_type": "markdown",
   "id": "1c92f8ae-189d-4e15-96f5-3ad40e10aec5",
   "metadata": {},
   "source": [
    "<a href=\"https://colab.research.google.com/github/jessegrabowski/spartan-stats-tutorial-2025/blob/main/notebooks/03_whence_growth.ipynb\" target=\"_parent\"><img src=\"https://colab.research.google.com/assets/colab-badge.svg\" alt=\"Open In Colab\"/></a>"
   ]
  },
  {
   "cell_type": "markdown",
   "id": "c6debcf8-2c78-45bf-8c21-0d1ee5305972",
   "metadata": {},
   "source": [
    "**💡 To better engage gray mass we suggest you turn off Colab AI autocompletion in `Tools > Settings > AI Assistance`**"
   ]
  },
  {
   "cell_type": "code",
   "execution_count": 1,
   "id": "f2d66b36-87a7-4572-8104-f01eddcfc5c6",
   "metadata": {},
   "outputs": [],
   "source": [
    "import numpy as np\n",
    "import pandas as pd\n",
    "import pymc as pm\n",
    "import arviz as az\n",
    "import graphviz as gr"
   ]
  },
  {
   "cell_type": "markdown",
   "id": "cf64ded8-3e8f-48c0-b775-9ee9fbb23c6f",
   "metadata": {},
   "source": [
    "# Whence Economic Growth?\n",
    "\n",
    "An important paper in the Economic Growth literature is [\"Aid, Policies, and Growth\" by Burnside and Dollar (2000, AER)](https://www.aeaweb.org/articles?id=10.1257/aer.90.4.847)\n",
    "\n",
    "The paper examined the connection between international aid and economic growth in the developing world. Their conclusion was that aid works, but only in countries with \"good institutions\". Institutional quality was assessed by looking at measures of fiscal, monetary, and trade policy.\n",
    "\n",
    "In this notebook, we will revisit this paper, keeping an eye on the Bayesian workflow, and the Pearl causal framework."
   ]
  },
  {
   "cell_type": "markdown",
   "id": "ea8bde1e-c9c2-445c-a329-cd1c8a0aedfc",
   "metadata": {},
   "source": [
    "# Load Data"
   ]
  },
  {
   "cell_type": "code",
   "execution_count": 2,
   "id": "d0af1ab2-e7d9-4591-b4e4-d0737606f26d",
   "metadata": {},
   "outputs": [],
   "source": [
    "rename_dict = {\n",
    "    'Country3':'country',\n",
    "    'YEAR1':'year',\n",
    "    'GDPG': 'gdp_growth',\n",
    "    'GDP': 'initial_gdp_pc',\n",
    "    'BB': 'budget_surplus',\n",
    "    'INFL': 'inflation',\n",
    "    'SACW': 'trade_openness',\n",
    "    'GOVC': 'gov_consumption_gdp',\n",
    "    'ETHNF': 'ethnic_fractionalization',\n",
    "    'ASSAS': 'assassinations_rate',\n",
    "    'ICRGE': 'institution_quality',\n",
    "    'M2-1': 'lagged_money_supply',\n",
    "    'SSA': 'sub_saharan_africa',\n",
    "    'EASIA': 'east_asia',\n",
    "    'LPOP': 'log_population',\n",
    "    'EGYPT': 'egypt_dummy',\n",
    "    'CENTAM': 'central_america',\n",
    "    'FRZ': 'francophone_africa',\n",
    "    'ARMS-1': 'arms_imports_lag',\n",
    "    'DN1900': 'indep_before_1900',\n",
    "    'EDA': 'total_aid_gdp',\n",
    "    'BEDA': 'bilateral_aid_gdp',\n",
    "    'MEDA': 'multilateral_aid_gdp',\n",
    "    'WBEDA': 'world_bank_aid_gdp',\n",
    "    'POPDEP': 'dependency_ratio'\n",
    "}\n",
    "\n",
    "#This is a list of the 56 countries used in the Burnside-Dollar study\n",
    "Countries = ['DZA', 'ARG', 'BOL', 'BWA', 'BRA', 'CMR', 'CHL', 'COL', 'CRI', 'CIV', 'DOM', 'ECU', 'EGY', 'SLV','ETH',\n",
    "            'GAB', 'GMB', 'GHA', 'GTM', 'GUY', 'HTI', 'HND', 'IND', 'IDN', 'JAM', 'KEN', 'KOR', 'MDG', 'MWI', 'MYS',\n",
    "            'MLI', 'MEX', 'MAR', 'NIC', 'NER', 'NGA', 'PAK', 'PRY', 'PER', 'PHL', 'SEN', 'SLE', 'SOM', 'LKA', 'SYR',\n",
    "            'TZA', 'THA', 'TGO', 'TTO', 'TUN', 'TUR', 'URY', 'VEN', 'ZAR', 'ZMB', 'ZWE']"
   ]
  },
  {
   "cell_type": "code",
   "execution_count": 3,
   "id": "6a90100f-530c-4b74-8bd8-23f53bf651bb",
   "metadata": {},
   "outputs": [],
   "source": [
    "data = pd.read_csv('data/burnside_dollar.csv')\n",
    "data.rename(columns=rename_dict, inplace=True)"
   ]
  },
  {
   "cell_type": "markdown",
   "id": "448963a5-741a-40ca-984c-1d77bdf97fb1",
   "metadata": {},
   "source": [
    "## Filtering and Feature Engineering"
   ]
  },
  {
   "cell_type": "code",
   "execution_count": 4,
   "id": "34bc582e-0082-4bab-a343-7861bf88cdfa",
   "metadata": {},
   "outputs": [],
   "source": [
    "#Burnside and Dollar don't use the 1966-69 observations\n",
    "data = data.query('(year != \"1966-69\") and (country in @Countries)')"
   ]
  },
  {
   "cell_type": "code",
   "execution_count": 5,
   "id": "f0996654-5e84-4813-93da-d2139742bc99",
   "metadata": {},
   "outputs": [],
   "source": [
    "#Several variables (Budget Surplus, Inflation, and Ethnic Fractionalization) have been divided by 100, \n",
    "#so the same is done here:\n",
    "\n",
    "data['ethnic_fractionalization'] = data['ethnic_fractionalization'] / 100\n",
    "data['inflation'] = data['inflation'] / 100\n",
    "data['budget_surplus'] = data['budget_surplus'] / 100\n",
    "\n",
    "#Interaction term \n",
    "data['frac_times_assn'] = data['ethnic_fractionalization'] * data['assassinations_rate']\n",
    "\n",
    "#log GDP\n",
    "data['log_gdp'] = np.log(data['initial_gdp_pc'])"
   ]
  },
  {
   "cell_type": "code",
   "execution_count": 6,
   "id": "13e55d67-fc98-49de-bdb3-1d82ae4a013d",
   "metadata": {},
   "outputs": [],
   "source": [
    "index_cols = ['country', 'year']\n",
    "exog_vars = ['budget_surplus', 'inflation', 'trade_openness', # Quality measures\n",
    "             'log_gdp', 'ethnic_fractionalization', 'assassinations_rate',  # Control variables\n",
    "             'frac_times_assn', 'institution_quality', 'lagged_money_supply',  # Control variables\n",
    "             'total_aid_gdp' # Quantity of interest\n",
    "            ]\n",
    "target_col = ['gdp_growth']\n",
    "\n",
    "geographic_dummies = ['sub_saharan_africa', 'east_asia']"
   ]
  },
  {
   "cell_type": "code",
   "execution_count": 7,
   "id": "2c866ce3-34fa-45dc-988c-468fb4369f57",
   "metadata": {},
   "outputs": [],
   "source": [
    "df = data[index_cols + exog_vars + geographic_dummies + target_col].dropna(how='any', axis=0).sort_values(by=['country', 'year'])\n",
    "df.reset_index(inplace=True)"
   ]
  },
  {
   "cell_type": "markdown",
   "id": "bf2115c3-bbb5-4014-9bdc-c6bd547964b7",
   "metadata": {},
   "source": [
    "## Factorize -- Your Best Friend\n",
    "\n",
    "In the last notebook, we used **advanced indexing** to make categorical effects for two groups -- male and female. When you are working with data that has many more categories, it quickly becomes painful to make these index vectors.\n",
    "\n",
    "Luckily, pandas as a function to help us: `pd.factorize`.\n",
    "\n",
    "`pd.factorize` takes a pandas column as an input, and returns two vectors:\n",
    "\n",
    "1. An index vector, that maps the categories to integers\n",
    "2. A list of all the unique categories, ordered to match the addresses stored in the index vector\n",
    "\n",
    "We can use `pd.factorize` to quickly get indexes for the countries and years in this dataset."
   ]
  },
  {
   "cell_type": "code",
   "execution_count": 8,
   "id": "b99fcc21-9367-49fd-a200-41708531fae0",
   "metadata": {},
   "outputs": [],
   "source": [
    "country_idx, countries = pd.factorize(df.country)\n",
    "year_idx, years = pd.factorize(df.year)"
   ]
  },
  {
   "cell_type": "markdown",
   "id": "c2203029-98e1-410f-930a-c4a71931203a",
   "metadata": {},
   "source": [
    "It's useful to look at what it gave back. First, the list of countries:"
   ]
  },
  {
   "cell_type": "code",
   "execution_count": 9,
   "id": "9f9d3fa5-e014-46ce-9b3b-544e975ae8ce",
   "metadata": {},
   "outputs": [
    {
     "data": {
      "text/plain": [
       "Index(['ARG', 'BOL', 'BRA', 'BWA', 'CHL', 'CIV', 'CMR', 'COL', 'CRI', 'DOM',\n",
       "       'DZA', 'ECU', 'EGY', 'ETH', 'GAB', 'GHA', 'GMB', 'GTM', 'GUY', 'HND',\n",
       "       'HTI', 'IDN', 'IND', 'JAM', 'KEN', 'KOR', 'LKA', 'MAR', 'MDG', 'MEX',\n",
       "       'MLI', 'MWI', 'MYS', 'NER', 'NGA', 'NIC', 'PAK', 'PER', 'PHL', 'PRY',\n",
       "       'SEN', 'SLE', 'SLV', 'SOM', 'SYR', 'TGO', 'THA', 'TTO', 'TUN', 'TUR',\n",
       "       'TZA', 'URY', 'VEN', 'ZAR', 'ZMB', 'ZWE'],\n",
       "      dtype='object')"
      ]
     },
     "execution_count": 9,
     "metadata": {},
     "output_type": "execute_result"
    }
   ],
   "source": [
    "countries"
   ]
  },
  {
   "cell_type": "markdown",
   "id": "3c24e1a8-adc3-4c34-a7b7-219dacfd947f",
   "metadata": {},
   "source": [
    "And the list of addresses. They are nicely sorted because we sorted our data by country."
   ]
  },
  {
   "cell_type": "code",
   "execution_count": 10,
   "id": "a5e8e929-b095-4fa4-9eb8-db3c4dfba5b0",
   "metadata": {},
   "outputs": [
    {
     "data": {
      "text/plain": [
       "array([ 0,  0,  0,  0,  0,  0,  1,  1,  1,  1,  1,  1,  2,  2,  2,  2,  2,\n",
       "        2,  3,  3,  3,  4,  4,  4,  4,  4,  4,  5,  6,  6,  6,  6,  6,  7,\n",
       "        7,  7,  7,  7,  7,  8,  8,  8,  8,  8,  8,  9,  9,  9,  9,  9,  9,\n",
       "       10, 10, 11, 11, 11, 11, 11, 11, 12, 12, 12, 12, 12, 13, 13, 14, 14,\n",
       "       14, 14, 14, 14, 15, 15, 15, 15, 15, 15, 16, 16, 16, 16, 16, 16, 17,\n",
       "       17, 17, 17, 17, 17, 18, 18, 18, 18, 18, 18, 19, 19, 19, 19, 19, 19,\n",
       "       20, 20, 20, 20, 20, 21, 21, 21, 21, 21, 21, 22, 22, 22, 22, 22, 22,\n",
       "       23, 23, 23, 24, 24, 24, 24, 24, 24, 25, 25, 25, 25, 25, 25, 26, 26,\n",
       "       26, 26, 26, 26, 27, 27, 27, 27, 27, 27, 28, 28, 28, 28, 29, 29, 29,\n",
       "       29, 29, 29, 30, 31, 31, 31, 31, 32, 32, 32, 32, 32, 32, 33, 33, 34,\n",
       "       34, 34, 34, 34, 34, 35, 35, 35, 35, 35, 35, 36, 36, 36, 36, 36, 36,\n",
       "       37, 37, 37, 37, 37, 37, 38, 38, 38, 38, 38, 38, 39, 39, 39, 39, 39,\n",
       "       39, 40, 40, 40, 40, 41, 41, 41, 41, 41, 41, 42, 42, 42, 42, 42, 42,\n",
       "       43, 43, 44, 44, 44, 44, 44, 45, 45, 45, 45, 46, 46, 46, 46, 46, 46,\n",
       "       47, 47, 47, 47, 47, 48, 48, 48, 49, 50, 50, 51, 51, 51, 51, 51, 51,\n",
       "       52, 52, 52, 52, 52, 52, 53, 53, 53, 53, 53, 54, 54, 54, 54, 54, 54,\n",
       "       55, 55, 55])"
      ]
     },
     "execution_count": 10,
     "metadata": {},
     "output_type": "execute_result"
    }
   ],
   "source": [
    "country_idx"
   ]
  },
  {
   "cell_type": "markdown",
   "id": "68bc5529-8c4a-44d5-bd70-fef725f92af8",
   "metadata": {},
   "source": [
    "The years are also sorted, but within country. That's because we sorted the data that way. So it's a good sanity check to make sure things make sense."
   ]
  },
  {
   "cell_type": "code",
   "execution_count": 11,
   "id": "0e0f5e0e-9895-402e-8c32-708fa4a36377",
   "metadata": {},
   "outputs": [
    {
     "data": {
      "text/plain": [
       "array([0, 1, 2, 3, 4, 5, 0, 1, 2, 3, 4, 5, 0, 1, 2, 3, 4, 5, 2, 3, 4, 0,\n",
       "       1, 2, 3, 4, 5, 2, 1, 2, 3, 4, 5, 0, 1, 2, 3, 4, 5, 0, 1, 2, 3, 4,\n",
       "       5, 0, 1, 2, 3, 4, 5, 0, 1, 0, 1, 2, 3, 4, 5, 1, 2, 3, 4, 5, 3, 4,\n",
       "       0, 1, 2, 3, 4, 5, 0, 1, 2, 3, 4, 5, 0, 1, 2, 3, 4, 5, 0, 1, 2, 3,\n",
       "       4, 5, 0, 1, 2, 3, 4, 5, 0, 1, 2, 3, 4, 5, 0, 1, 2, 3, 4, 0, 1, 2,\n",
       "       3, 4, 5, 0, 1, 2, 3, 4, 5, 1, 2, 3, 0, 1, 2, 3, 4, 5, 0, 1, 2, 3,\n",
       "       4, 5, 0, 1, 2, 3, 4, 5, 0, 1, 2, 3, 4, 5, 0, 1, 4, 5, 0, 1, 2, 3,\n",
       "       4, 5, 4, 2, 3, 4, 5, 0, 1, 2, 3, 4, 5, 1, 2, 0, 1, 2, 3, 4, 5, 0,\n",
       "       1, 2, 3, 4, 5, 0, 1, 2, 3, 4, 5, 0, 1, 2, 3, 4, 5, 0, 1, 2, 3, 4,\n",
       "       5, 0, 1, 2, 3, 4, 5, 0, 1, 2, 3, 0, 1, 2, 3, 4, 5, 0, 1, 2, 3, 4,\n",
       "       5, 1, 2, 0, 1, 2, 4, 5, 1, 2, 3, 4, 0, 1, 2, 3, 4, 5, 0, 1, 2, 3,\n",
       "       4, 3, 4, 5, 5, 3, 4, 0, 1, 2, 3, 4, 5, 0, 1, 2, 3, 4, 5, 0, 1, 2,\n",
       "       3, 4, 0, 1, 2, 3, 4, 5, 3, 4, 5])"
      ]
     },
     "execution_count": 11,
     "metadata": {},
     "output_type": "execute_result"
    }
   ],
   "source": [
    "year_idx"
   ]
  },
  {
   "cell_type": "markdown",
   "id": "f1532403-1af9-4190-99a3-6f4e13ed091d",
   "metadata": {},
   "source": [
    "# A simple causal model"
   ]
  },
  {
   "cell_type": "code",
   "execution_count": 12,
   "id": "e5a87354-1166-4d71-b043-3946a96c4033",
   "metadata": {},
   "outputs": [],
   "source": [
    "def draw_causal_graph(edge_list, node_props=None, edge_props=None, graph_direction=\"UD\"):\n",
    "    \"\"\"Utility to draw a causal (directed) graph\"\"\"\n",
    "    g = gr.Digraph(graph_attr={\"rankdir\": graph_direction})\n",
    "\n",
    "    edge_props = {} if edge_props is None else edge_props\n",
    "    for e in edge_list:\n",
    "        props = edge_props[e] if e in edge_props else {}\n",
    "        g.edge(e[0], e[1], **props)\n",
    "\n",
    "    if node_props is not None:\n",
    "        for name, props in node_props.items():\n",
    "            g.node(name=name, **props)\n",
    "    return g"
   ]
  },
  {
   "cell_type": "markdown",
   "id": "6b7b19f7-8c93-4e7b-ae35-f61c728b4889",
   "metadata": {},
   "source": [
    "The research question of Burnside and Dollar was, \"Is international aid effecting in helping economic growth?\". \n",
    "\n",
    "Let's begin with a very naive causal graph. International aide causes growth. We assume that all other factors are IID, and there is nothing out there in the world that would affect both aid and growth at the same time. (This is a silly assumption, which we will try to relax)."
   ]
  },
  {
   "cell_type": "code",
   "execution_count": 13,
   "id": "2c82320f-7e4f-441e-9aae-ddd8edcf0849",
   "metadata": {},
   "outputs": [
    {
     "data": {
      "image/svg+xml": [
       "<?xml version=\"1.0\" encoding=\"UTF-8\" standalone=\"no\"?>\n",
       "<!DOCTYPE svg PUBLIC \"-//W3C//DTD SVG 1.1//EN\"\n",
       " \"http://www.w3.org/Graphics/SVG/1.1/DTD/svg11.dtd\">\n",
       "<!-- Generated by graphviz version 12.2.1 (0)\n",
       " -->\n",
       "<!-- Pages: 1 -->\n",
       "<svg width=\"373pt\" height=\"98pt\"\n",
       " viewBox=\"0.00 0.00 373.26 98.00\" xmlns=\"http://www.w3.org/2000/svg\" xmlns:xlink=\"http://www.w3.org/1999/xlink\">\n",
       "<g id=\"graph0\" class=\"graph\" transform=\"scale(1 1) rotate(0) translate(4 94)\">\n",
       "<polygon fill=\"white\" stroke=\"none\" points=\"-4,4 -4,-94 369.26,-94 369.26,4 -4,4\"/>\n",
       "<!-- International Aid -->\n",
       "<g id=\"node1\" class=\"node\">\n",
       "<title>International Aid</title>\n",
       "<ellipse fill=\"none\" stroke=\"black\" cx=\"85.13\" cy=\"-72\" rx=\"73.87\" ry=\"18\"/>\n",
       "<text text-anchor=\"middle\" x=\"85.13\" y=\"-66.95\" font-family=\"Times,serif\" font-size=\"14.00\">International Aid</text>\n",
       "</g>\n",
       "<!-- Economic Growth -->\n",
       "<g id=\"node2\" class=\"node\">\n",
       "<title>Economic Growth</title>\n",
       "<ellipse fill=\"none\" stroke=\"black\" cx=\"285.76\" cy=\"-45\" rx=\"79.5\" ry=\"18\"/>\n",
       "<text text-anchor=\"middle\" x=\"285.76\" y=\"-39.95\" font-family=\"Times,serif\" font-size=\"14.00\">Economic Growth</text>\n",
       "</g>\n",
       "<!-- International Aid&#45;&gt;Economic Growth -->\n",
       "<g id=\"edge1\" class=\"edge\">\n",
       "<title>International Aid&#45;&gt;Economic Growth</title>\n",
       "<path fill=\"none\" stroke=\"black\" d=\"M150.62,-63.23C168.16,-60.85 187.37,-58.24 205.62,-55.76\"/>\n",
       "<polygon fill=\"black\" stroke=\"black\" points=\"205.9,-59.25 215.34,-54.44 204.96,-52.32 205.9,-59.25\"/>\n",
       "</g>\n",
       "<!-- Unobserved Factors -->\n",
       "<g id=\"node3\" class=\"node\">\n",
       "<title>Unobserved Factors</title>\n",
       "<ellipse fill=\"none\" stroke=\"black\" stroke-dasharray=\"5,2\" cx=\"85.13\" cy=\"-18\" rx=\"85.13\" ry=\"18\"/>\n",
       "<text text-anchor=\"middle\" x=\"85.13\" y=\"-12.95\" font-family=\"Times,serif\" font-size=\"14.00\">Unobserved Factors</text>\n",
       "</g>\n",
       "<!-- Unobserved Factors&#45;&gt;Economic Growth -->\n",
       "<g id=\"edge2\" class=\"edge\">\n",
       "<title>Unobserved Factors&#45;&gt;Economic Growth</title>\n",
       "<path fill=\"none\" stroke=\"black\" d=\"M157.84,-27.75C173.31,-29.85 189.75,-32.09 205.49,-34.22\"/>\n",
       "<polygon fill=\"black\" stroke=\"black\" points=\"204.92,-37.68 215.3,-35.56 205.87,-30.74 204.92,-37.68\"/>\n",
       "</g>\n",
       "</g>\n",
       "</svg>\n"
      ],
      "text/plain": [
       "<graphviz.graphs.Digraph at 0x322928560>"
      ]
     },
     "execution_count": 13,
     "metadata": {},
     "output_type": "execute_result"
    }
   ],
   "source": [
    "draw_causal_graph(\n",
    "    edge_list=[(\"International Aid\", \"Economic Growth\"), \n",
    "               (\"Unobserved Factors\", \"Economic Growth\")],\n",
    "    node_props={\"Unobserved Factors\": {\"style\": \"dashed\"}},\n",
    "    graph_direction=\"LR\",\n",
    ")"
   ]
  },
  {
   "cell_type": "markdown",
   "id": "8acad720-1f2f-4e04-bfe5-dd38e731723d",
   "metadata": {},
   "source": [
    "## PyMC Model\n",
    "\n",
    "Implemet the DAG above as a linear model. Use the form:\n",
    "\n",
    "$$ \\text{Growth}_i = \\alpha + \\beta \\text{Aid}_i + \\epsilon_i $$\n",
    "\n",
    "Assume $\\epsilon_i \\sim N(0, \\sigma)$. So we need priors on $\\alpha$, $\\beta$, and $\\sigma$."
   ]
  },
  {
   "cell_type": "code",
   "execution_count": 14,
   "id": "41da83fb-233b-4ae6-8683-c8ef3bc34478",
   "metadata": {},
   "outputs": [],
   "source": [
    "obs_idx = df.index.values\n",
    "coords = {\n",
    "    'obs_idx':obs_idx,\n",
    "    'country':countries,\n",
    "    'year':years\n",
    "}\n",
    "\n",
    "with pm.Model(coords=coords) as naive_model:\n",
    "    gdp_growth = pm.Data('gdp_growth', df['gdp_growth'], dims=['obs_idx'])\n",
    "    effective_aid = pm.Data('aid', df['total_aid_gdp'], dims=['obs_idx'])\n",
    "\n",
    "    alpha = ...\n",
    "    beta = ...\n",
    "    sigma = ...\n",
    "\n",
    "    ## Uncomment me!\n",
    "    # expected_growth = pm.Deterministic('expected_growth', alpha + beta * effective_aid, dims=['obs_idx'])\n",
    "    # gdp_growth_hat = pm.Normal('gdp_growth_hat', mu=expected_growth, sigma=sigma, observed=gdp_growth, dims=['obs_idx'])\n",
    "    # idata = pm.sample()"
   ]
  },
  {
   "cell_type": "markdown",
   "id": "66cae897-98b6-4e4d-9326-24bd9fea59ec",
   "metadata": {},
   "source": [
    "Uncomment the following cell to look at the estimated effect of growth on aid!"
   ]
  },
  {
   "cell_type": "code",
   "execution_count": 15,
   "id": "c9d598d7-6dc5-46b6-98c4-ef1e5572f32d",
   "metadata": {},
   "outputs": [],
   "source": [
    "# az.plot_posterior(idata, var_names=['beta']);"
   ]
  },
  {
   "cell_type": "markdown",
   "id": "46a1dd03-cae3-4c1b-96af-aafaa9f9eb0f",
   "metadata": {},
   "source": [
    "# A Slightly Better DAG"
   ]
  },
  {
   "cell_type": "markdown",
   "id": "f787cacf-ea4b-4ddd-bf90-18a1dd1c94d9",
   "metadata": {},
   "source": [
    "\n",
    "The basic idea is that there might be some special qualities of different countries that both cause economic growth, *and* which cause countries to give aid. One example might be internal chaos in a country. If a country has a weak government, with weak rule of law, there might be a lot of internal conflicts and associated human suffering. This would increase aid (to relieve suffering) but reduce growth (because war is bad). But this doesn't imply that higher aid decreases growth!\n",
    "\n",
    "On the positive side, we might think that certain colonial ties could be benefitial. For example, imagine for the sake of argument that the French legal system is more condusive to economic growth. Colonial ties also induce more aid from the former colonizer, because of a sense of historical connect. Thus, France would give more aid to such a country, and (by assumption) its growth would be higher. But not necessarily because of the aid!\n",
    "\n",
    "So we want to control for these unobserved country factors. One way is by including **country fixed effects**. Since we observe each country over time, we can absorb country-specific variation with a country effect."
   ]
  },
  {
   "cell_type": "code",
   "execution_count": 16,
   "id": "54202dfa-52f4-4b78-9c8d-ecb97b2a00d4",
   "metadata": {},
   "outputs": [
    {
     "data": {
      "image/svg+xml": [
       "<?xml version=\"1.0\" encoding=\"UTF-8\" standalone=\"no\"?>\n",
       "<!DOCTYPE svg PUBLIC \"-//W3C//DTD SVG 1.1//EN\"\n",
       " \"http://www.w3.org/Graphics/SVG/1.1/DTD/svg11.dtd\">\n",
       "<!-- Generated by graphviz version 12.2.1 (0)\n",
       " -->\n",
       "<!-- Pages: 1 -->\n",
       "<svg width=\"692pt\" height=\"136pt\"\n",
       " viewBox=\"0.00 0.00 692.12 136.00\" xmlns=\"http://www.w3.org/2000/svg\" xmlns:xlink=\"http://www.w3.org/1999/xlink\">\n",
       "<g id=\"graph0\" class=\"graph\" transform=\"scale(1 1) rotate(0) translate(4 132)\">\n",
       "<polygon fill=\"white\" stroke=\"none\" points=\"-4,4 -4,-132 688.12,-132 688.12,4 -4,4\"/>\n",
       "<!-- International Aid -->\n",
       "<g id=\"node1\" class=\"node\">\n",
       "<title>International Aid</title>\n",
       "<ellipse fill=\"none\" stroke=\"black\" cx=\"380.45\" cy=\"-110\" rx=\"73.87\" ry=\"18\"/>\n",
       "<text text-anchor=\"middle\" x=\"380.45\" y=\"-104.95\" font-family=\"Times,serif\" font-size=\"14.00\">International Aid</text>\n",
       "</g>\n",
       "<!-- Economic Growth -->\n",
       "<g id=\"node2\" class=\"node\">\n",
       "<title>Economic Growth</title>\n",
       "<ellipse fill=\"none\" stroke=\"black\" cx=\"604.62\" cy=\"-64\" rx=\"79.5\" ry=\"18\"/>\n",
       "<text text-anchor=\"middle\" x=\"604.62\" y=\"-58.95\" font-family=\"Times,serif\" font-size=\"14.00\">Economic Growth</text>\n",
       "</g>\n",
       "<!-- International Aid&#45;&gt;Economic Growth -->\n",
       "<g id=\"edge1\" class=\"edge\">\n",
       "<title>International Aid&#45;&gt;Economic Growth</title>\n",
       "<path fill=\"none\" stroke=\"black\" d=\"M437.8,-98.33C466.88,-92.31 502.64,-84.91 533.49,-78.52\"/>\n",
       "<polygon fill=\"black\" stroke=\"black\" points=\"534.05,-81.98 543.13,-76.52 532.63,-75.12 534.05,-81.98\"/>\n",
       "</g>\n",
       "<!-- Unobserved Country Factors -->\n",
       "<g id=\"node3\" class=\"node\">\n",
       "<title>Unobserved Country Factors</title>\n",
       "<ellipse fill=\"none\" stroke=\"black\" stroke-dasharray=\"5,2\" cx=\"117.89\" cy=\"-87\" rx=\"117.89\" ry=\"18\"/>\n",
       "<text text-anchor=\"middle\" x=\"117.89\" y=\"-81.95\" font-family=\"Times,serif\" font-size=\"14.00\">Unobserved Country Factors</text>\n",
       "</g>\n",
       "<!-- Unobserved Country Factors&#45;&gt;International Aid -->\n",
       "<g id=\"edge3\" class=\"edge\">\n",
       "<title>Unobserved Country Factors&#45;&gt;International Aid</title>\n",
       "<path fill=\"none\" stroke=\"black\" d=\"M221.12,-96.02C246.97,-98.31 274.36,-100.72 298.96,-102.9\"/>\n",
       "<polygon fill=\"black\" stroke=\"black\" points=\"298.65,-106.38 308.92,-103.77 299.26,-99.41 298.65,-106.38\"/>\n",
       "</g>\n",
       "<!-- Unobserved Country Factors&#45;&gt;Economic Growth -->\n",
       "<g id=\"edge2\" class=\"edge\">\n",
       "<title>Unobserved Country Factors&#45;&gt;Economic Growth</title>\n",
       "<path fill=\"none\" stroke=\"black\" d=\"M231.01,-81.68C317.36,-77.58 435.1,-72 514.95,-68.21\"/>\n",
       "<polygon fill=\"black\" stroke=\"black\" points=\"515.11,-71.7 524.94,-67.73 514.78,-64.71 515.11,-71.7\"/>\n",
       "</g>\n",
       "<!-- Other Unobserved Factors -->\n",
       "<g id=\"node4\" class=\"node\">\n",
       "<title>Other Unobserved Factors</title>\n",
       "<ellipse fill=\"none\" stroke=\"black\" stroke-dasharray=\"5,2\" cx=\"380.45\" cy=\"-18\" rx=\"108.67\" ry=\"18\"/>\n",
       "<text text-anchor=\"middle\" x=\"380.45\" y=\"-12.95\" font-family=\"Times,serif\" font-size=\"14.00\">Other Unobserved Factors</text>\n",
       "</g>\n",
       "<!-- Other Unobserved Factors&#45;&gt;Economic Growth -->\n",
       "<g id=\"edge4\" class=\"edge\">\n",
       "<title>Other Unobserved Factors&#45;&gt;Economic Growth</title>\n",
       "<path fill=\"none\" stroke=\"black\" d=\"M449.92,-32.18C476.47,-37.67 506.85,-43.96 533.55,-49.49\"/>\n",
       "<polygon fill=\"black\" stroke=\"black\" points=\"532.77,-52.9 543.27,-51.5 534.19,-46.05 532.77,-52.9\"/>\n",
       "</g>\n",
       "</g>\n",
       "</svg>\n"
      ],
      "text/plain": [
       "<graphviz.graphs.Digraph at 0x32292bd70>"
      ]
     },
     "execution_count": 16,
     "metadata": {},
     "output_type": "execute_result"
    }
   ],
   "source": [
    "draw_causal_graph(\n",
    "    edge_list=[(\"International Aid\", \"Economic Growth\"), \n",
    "               (\"Unobserved Country Factors\", 'Economic Growth'),\n",
    "               (\"Unobserved Country Factors\", 'International Aid'),\n",
    "               (\"Other Unobserved Factors\", \"Economic Growth\")],\n",
    "    node_props={\"Other Unobserved Factors\": {\"style\": \"dashed\"},\n",
    "                \"Unobserved Country Factors\": {'style': \"dashed\"}},\n",
    "    graph_direction=\"LR\",\n",
    ")"
   ]
  },
  {
   "cell_type": "code",
   "execution_count": 17,
   "id": "e8fe5023-37fc-47f7-b4f7-884de85d82f5",
   "metadata": {},
   "outputs": [],
   "source": [
    "obs_idx = df.index.values\n",
    "coords = {\n",
    "    'obs_idx':obs_idx,\n",
    "    'country':countries,\n",
    "    'year':years\n",
    "}\n",
    "\n",
    "with pm.Model(coords=coords) as fixed_effect_model:\n",
    "    gdp_growth = pm.Data('gdp_growth', df['gdp_growth'], dims=['obs_idx'])\n",
    "    effective_aid = pm.Data('aid', df['total_aid_gdp'], dims=['obs_idx'])\n",
    "    country_idx_pt = pm.Data('country_idx', country_idx, dims=['obs_idx'])\n",
    "\n",
    "\n",
    "    # The country effet should have dims = ['country']\n",
    "    country_effect = ...\n",
    "    beta = ...\n",
    "    sigma = ...\n",
    "\n",
    "    ## Uncomment me!\n",
    "    # expected_growth = pm.Deterministic('expected_growth', country_effect[country_idx_pt] + beta * effective_aid, dims=['obs_idx'])\n",
    "    # gdp_growth_hat = pm.Normal('gdp_growth_hat', mu=expected_growth, sigma=sigma, observed=gdp_growth, dims=['obs_idx'])\n",
    "    # idata_2 = pm.sample()"
   ]
  },
  {
   "cell_type": "code",
   "execution_count": 18,
   "id": "3cc6034a-7be6-4761-8491-2001bb561af8",
   "metadata": {},
   "outputs": [],
   "source": [
    "# az.plot_posterior(idata, var_names=['beta']);"
   ]
  }
 ],
 "metadata": {
  "kernelspec": {
   "display_name": "Python 3 (ipykernel)",
   "language": "python",
   "name": "python3"
  },
  "language_info": {
   "codemirror_mode": {
    "name": "ipython",
    "version": 3
   },
   "file_extension": ".py",
   "mimetype": "text/x-python",
   "name": "python",
   "nbconvert_exporter": "python",
   "pygments_lexer": "ipython3",
   "version": "3.12.10"
  }
 },
 "nbformat": 4,
 "nbformat_minor": 5
}
